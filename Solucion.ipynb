{
  "nbformat": 4,
  "nbformat_minor": 0,
  "metadata": {
    "colab": {
      "name": "Solucion.ipynb",
      "provenance": []
    },
    "kernelspec": {
      "display_name": "Python 3",
      "language": "python",
      "name": "python3"
    },
    "language_info": {
      "codemirror_mode": {
        "name": "ipython",
        "version": 3
      },
      "file_extension": ".py",
      "mimetype": "text/x-python",
      "name": "python",
      "nbconvert_exporter": "python",
      "pygments_lexer": "ipython3",
      "version": "3.7.3"
    }
  },
  "cells": [
    {
      "cell_type": "markdown",
      "metadata": {
        "colab_type": "text",
        "id": "CMfQsN_R2RQr"
      },
      "source": [
        "<hr style=\"height:2px;border:none\"/>\n",
        "<h1 align='center'> INF-393 Máquinas de Aprendizaje II-2019 </h1>\n",
        "\n",
        "<H3 align='center'> Tarea 1  </H3>\n",
        "<hr style=\"height:2px;border:none\"/>"
      ]
    },
    {
      "cell_type": "markdown",
      "metadata": {
        "colab_type": "text",
        "id": "F-FJyHB92RQs"
      },
      "source": [
        "<a id=\"primero\"></a>\n",
        "## 1. Máquinas de aprendizaje aplicadas a la medicina\n",
        "---\n",
        "En primera instancia, se cargan los datos a trabajar en un *dataframe* de pandas, expresando las variables categóricas en su estructura original."
      ]
    },
    {
      "cell_type": "code",
      "metadata": {
        "id": "rd4DEsgKf7GY",
        "colab_type": "code",
        "colab": {},
        "outputId": "f236c343-02e8-40c5-8b5f-38b9bc94ea80"
      },
      "source": [
        "import pandas as pd\n",
        "import numpy as np\n",
        "\n",
        "headers = ['age','sex','chest_pain','blood_p','serum','blood_s','electro','max_heart', 'angina','oldpeak','slope','vessel','thal','normal']\n",
        "df = pd.read_csv(\"heart.dat\", header=None, names=headers, sep=' ')\n",
        "\n",
        "df.loc[df['sex'] == 0, 'sex'] = 'female'\n",
        "df.loc[df['sex'] == 1, 'sex'] = 'male'\n",
        "df.loc[df['chest_pain'] == 1, 'chest_pain'] = 'typical angina'\n",
        "df.loc[df['chest_pain'] == 2, 'chest_pain'] = 'atypical angina'\n",
        "df.loc[df['chest_pain'] == 3, 'chest_pain'] = 'non-anginal pain'\n",
        "df.loc[df['chest_pain'] == 4, 'chest_pain'] = 'asymptomatic'\n",
        "df.loc[df['blood_s'] == 0, 'blood_s'] = 'lower than 120mg/ml'\n",
        "df.loc[df['blood_s'] == 1, 'blood_s'] = 'greater than 120mg/ml'\n",
        "df.loc[df['electro'] == 0, 'electro'] = 'normal'\n",
        "df.loc[df['electro'] == 1, 'electro'] = 'ST-T wave abnormality'\n",
        "df.loc[df['electro'] == 2, 'electro'] = 'left ventricular hypertrophy'\n",
        "df.loc[df['angina'] == 0, 'angina'] = 'no'\n",
        "df.loc[df['angina'] == 1, 'angina'] = 'yes'\n",
        "df.loc[df['slope'] == 1, 'slope'] = 'upsloping'\n",
        "df.loc[df['slope'] == 2, 'slope'] = 'flat'\n",
        "df.loc[df['slope'] == 3, 'slope'] = 'downsloping'\n",
        "df.loc[df['thal'] == 3, 'thal'] = 'normal'\n",
        "df.loc[df['thal'] == 6, 'thal'] = 'fixed defect'\n",
        "df.loc[df['thal'] == 7, 'thal'] = 'reversable defect'\n",
        "\n",
        "df.head()"
      ],
      "execution_count": 0,
      "outputs": [
        {
          "output_type": "execute_result",
          "data": {
            "text/html": [
              "<div>\n",
              "<style scoped>\n",
              "    .dataframe tbody tr th:only-of-type {\n",
              "        vertical-align: middle;\n",
              "    }\n",
              "\n",
              "    .dataframe tbody tr th {\n",
              "        vertical-align: top;\n",
              "    }\n",
              "\n",
              "    .dataframe thead th {\n",
              "        text-align: right;\n",
              "    }\n",
              "</style>\n",
              "<table border=\"1\" class=\"dataframe\">\n",
              "  <thead>\n",
              "    <tr style=\"text-align: right;\">\n",
              "      <th></th>\n",
              "      <th>age</th>\n",
              "      <th>sex</th>\n",
              "      <th>chest_pain</th>\n",
              "      <th>blood_p</th>\n",
              "      <th>serum</th>\n",
              "      <th>blood_s</th>\n",
              "      <th>electro</th>\n",
              "      <th>max_heart</th>\n",
              "      <th>angina</th>\n",
              "      <th>oldpeak</th>\n",
              "      <th>slope</th>\n",
              "      <th>vessel</th>\n",
              "      <th>thal</th>\n",
              "      <th>normal</th>\n",
              "    </tr>\n",
              "  </thead>\n",
              "  <tbody>\n",
              "    <tr>\n",
              "      <th>0</th>\n",
              "      <td>70.0</td>\n",
              "      <td>male</td>\n",
              "      <td>asymptomatic</td>\n",
              "      <td>130.0</td>\n",
              "      <td>322.0</td>\n",
              "      <td>lower than 120mg/ml</td>\n",
              "      <td>left ventricular hypertrophy</td>\n",
              "      <td>109.0</td>\n",
              "      <td>no</td>\n",
              "      <td>2.4</td>\n",
              "      <td>flat</td>\n",
              "      <td>3.0</td>\n",
              "      <td>normal</td>\n",
              "      <td>2</td>\n",
              "    </tr>\n",
              "    <tr>\n",
              "      <th>1</th>\n",
              "      <td>67.0</td>\n",
              "      <td>female</td>\n",
              "      <td>non-anginal pain</td>\n",
              "      <td>115.0</td>\n",
              "      <td>564.0</td>\n",
              "      <td>lower than 120mg/ml</td>\n",
              "      <td>left ventricular hypertrophy</td>\n",
              "      <td>160.0</td>\n",
              "      <td>no</td>\n",
              "      <td>1.6</td>\n",
              "      <td>flat</td>\n",
              "      <td>0.0</td>\n",
              "      <td>reversable defect</td>\n",
              "      <td>1</td>\n",
              "    </tr>\n",
              "    <tr>\n",
              "      <th>2</th>\n",
              "      <td>57.0</td>\n",
              "      <td>male</td>\n",
              "      <td>atypical angina</td>\n",
              "      <td>124.0</td>\n",
              "      <td>261.0</td>\n",
              "      <td>lower than 120mg/ml</td>\n",
              "      <td>normal</td>\n",
              "      <td>141.0</td>\n",
              "      <td>no</td>\n",
              "      <td>0.3</td>\n",
              "      <td>upsloping</td>\n",
              "      <td>0.0</td>\n",
              "      <td>reversable defect</td>\n",
              "      <td>2</td>\n",
              "    </tr>\n",
              "    <tr>\n",
              "      <th>3</th>\n",
              "      <td>64.0</td>\n",
              "      <td>male</td>\n",
              "      <td>asymptomatic</td>\n",
              "      <td>128.0</td>\n",
              "      <td>263.0</td>\n",
              "      <td>lower than 120mg/ml</td>\n",
              "      <td>normal</td>\n",
              "      <td>105.0</td>\n",
              "      <td>yes</td>\n",
              "      <td>0.2</td>\n",
              "      <td>flat</td>\n",
              "      <td>1.0</td>\n",
              "      <td>reversable defect</td>\n",
              "      <td>1</td>\n",
              "    </tr>\n",
              "    <tr>\n",
              "      <th>4</th>\n",
              "      <td>74.0</td>\n",
              "      <td>female</td>\n",
              "      <td>atypical angina</td>\n",
              "      <td>120.0</td>\n",
              "      <td>269.0</td>\n",
              "      <td>lower than 120mg/ml</td>\n",
              "      <td>left ventricular hypertrophy</td>\n",
              "      <td>121.0</td>\n",
              "      <td>yes</td>\n",
              "      <td>0.2</td>\n",
              "      <td>upsloping</td>\n",
              "      <td>1.0</td>\n",
              "      <td>normal</td>\n",
              "      <td>1</td>\n",
              "    </tr>\n",
              "  </tbody>\n",
              "</table>\n",
              "</div>"
            ],
            "text/plain": [
              "    age     sex        chest_pain  blood_p  serum              blood_s  \\\n",
              "0  70.0    male      asymptomatic    130.0  322.0  lower than 120mg/ml   \n",
              "1  67.0  female  non-anginal pain    115.0  564.0  lower than 120mg/ml   \n",
              "2  57.0    male   atypical angina    124.0  261.0  lower than 120mg/ml   \n",
              "3  64.0    male      asymptomatic    128.0  263.0  lower than 120mg/ml   \n",
              "4  74.0  female   atypical angina    120.0  269.0  lower than 120mg/ml   \n",
              "\n",
              "                        electro  max_heart angina  oldpeak      slope  vessel  \\\n",
              "0  left ventricular hypertrophy      109.0     no      2.4       flat     3.0   \n",
              "1  left ventricular hypertrophy      160.0     no      1.6       flat     0.0   \n",
              "2                        normal      141.0     no      0.3  upsloping     0.0   \n",
              "3                        normal      105.0    yes      0.2       flat     1.0   \n",
              "4  left ventricular hypertrophy      121.0    yes      0.2  upsloping     1.0   \n",
              "\n",
              "                thal  normal  \n",
              "0             normal       2  \n",
              "1  reversable defect       1  \n",
              "2  reversable defect       2  \n",
              "3  reversable defect       1  \n",
              "4             normal       1  "
            ]
          },
          "metadata": {
            "tags": []
          },
          "execution_count": 26
        }
      ]
    },
    {
      "cell_type": "markdown",
      "metadata": {
        "id": "SsQSOKz5f7Gy",
        "colab_type": "text"
      },
      "source": [
        "> a) Visualice los datos trabajados describiendo el comportamiento de las variables para entender el problema al que se enfrenta. ¿Qué ocurre con el comportamiento entre pacientes sanos y enfermos? Haga gráficos si estima conveniente (histogramas, boxplots, etc).\n",
        "\n",
        "**Respuesta:**\n",
        "\n",
        "Para comenzar, se genera un resumen de los valores obtenidos para la media, desviación estándar y cuartiles del potencial boxplot que se generaría para cada atributo predictivo del dataset (hasta *vessel*), tanto para pacientes sanos como enfermos:\n"
      ]
    },
    {
      "cell_type": "code",
      "metadata": {
        "id": "kQEh0fKzf7Gz",
        "colab_type": "code",
        "colab": {},
        "outputId": "fd014288-5eb1-4155-d7d7-e99d8dae6917"
      },
      "source": [
        "sanos = df[df.normal == 1].drop(['normal'], axis=1)\n",
        "enfermos = df[df.normal == 2].drop(['normal'], axis=1)\n",
        "\n",
        "print(\"Pacientes sanos:\\n\", sanos.describe(), \"\\n\")\n",
        "print(\"Pacientes enfermos:\\n\", enfermos.describe())"
      ],
      "execution_count": 0,
      "outputs": [
        {
          "output_type": "stream",
          "text": [
            "Pacientes sanos:\n",
            "               age     blood_p       serum   max_heart     oldpeak      vessel\n",
            "count  150.000000  150.000000  150.000000  150.000000  150.000000  150.000000\n",
            "mean    52.706667  128.866667  244.213333  158.333333    0.622667    0.286667\n",
            "std      9.509830   16.457660   54.019085   19.283357    0.800851    0.648557\n",
            "min     29.000000   94.000000  126.000000   96.000000    0.000000    0.000000\n",
            "25%     45.000000  120.000000  209.000000  148.250000    0.000000    0.000000\n",
            "50%     52.000000  130.000000  236.000000  161.000000    0.200000    0.000000\n",
            "75%     59.000000  140.000000  268.750000  172.000000    1.175000    0.000000\n",
            "max     76.000000  180.000000  564.000000  202.000000    4.200000    3.000000 \n",
            "\n",
            "Pacientes enfermos:\n",
            "               age     blood_p       serum   max_heart     oldpeak      vessel\n",
            "count  120.000000  120.000000  120.000000  120.000000  120.000000  120.000000\n",
            "mean    56.591667  134.441667  256.466667  138.858333    1.584167    1.150000\n",
            "std      8.116273   19.095424   47.969166   23.130719    1.282067    1.034286\n",
            "min     35.000000  100.000000  149.000000   71.000000    0.000000    0.000000\n",
            "25%     52.000000  120.000000  227.250000  124.750000    0.600000    0.000000\n",
            "50%     58.000000  130.000000  255.500000  141.500000    1.400000    1.000000\n",
            "75%     62.000000  145.000000  286.500000  157.250000    2.425000    2.000000\n",
            "max     77.000000  200.000000  409.000000  195.000000    6.200000    3.000000\n"
          ],
          "name": "stdout"
        }
      ]
    },
    {
      "cell_type": "markdown",
      "metadata": {
        "id": "bUSEkrkSf7G6",
        "colab_type": "text"
      },
      "source": [
        "Puede observarse que (...).\n",
        "\n",
        "Ahora, el primer análisis gráfico que puede efectuarse, a partir de los datos obtenidos anteriormente, es el de la edad tanto de los pacientes sanos como de los enfermos. Para esto se observan los boxplots a continuación:"
      ]
    },
    {
      "cell_type": "code",
      "metadata": {
        "id": "yaRMxngjf7G-",
        "colab_type": "code",
        "colab": {},
        "outputId": "9ef6ce1d-b2a5-4a57-9c63-f2a333415f1d"
      },
      "source": [
        "import numpy as np\n",
        "import matplotlib.pyplot as plt\n",
        "\n",
        "age_healthy = df['age'][df['normal'] == 1]\n",
        "age_ill = df['age'][df['normal'] == 2]\n",
        "\n",
        "data = [age_healthy, age_ill]\n",
        "fig, ax = plt.subplots()\n",
        "ax.set_title('Muestras')\n",
        "meanlineprops = dict(linestyle='-', linewidth=1, color='blue')\n",
        "ax.boxplot(data, meanprops=meanlineprops, meanline=True, showmeans=True)\n",
        "\n",
        "plt.show()"
      ],
      "execution_count": 0,
      "outputs": [
        {
          "output_type": "display_data",
          "data": {
            "image/png": "[encoded data removed]",
            "text/plain": [
              "<Figure size 432x288 with 1 Axes>"
            ]
          },
          "metadata": {
            "tags": [],
            "needs_background": "light"
          }
        }
      ]
    },
    {
      "cell_type": "markdown",
      "metadata": {
        "id": "rthcVEa3f7HH",
        "colab_type": "text"
      },
      "source": [
        "Luego, puede analizarse la presión sanguínea:"
      ]
    },
    {
      "cell_type": "code",
      "metadata": {
        "scrolled": true,
        "id": "Lpkseuj2f7HJ",
        "colab_type": "code",
        "colab": {},
        "outputId": "39b1e294-ba35-4260-bc55-250c657d8520"
      },
      "source": [
        "blood_p_healthy = df['blood_p'][df['normal'] == 1]\n",
        "blood_p_ill = df['blood_p'][df['normal'] == 2]\n",
        "\n",
        "data = [blood_p_healthy, blood_p_ill]\n",
        "fig, ax = plt.subplots()\n",
        "ax.set_title('Muestras')\n",
        "meanlineprops = dict(linestyle='-', linewidth=1, color='blue')\n",
        "ax.boxplot(data, meanprops=meanlineprops, meanline=True, showmeans=True)\n",
        "\n",
        "plt.show()"
      ],
      "execution_count": 0,
      "outputs": [
        {
          "output_type": "display_data",
          "data": {
            "image/png": "[encoded data removed]",
            "text/plain": [
              "<Figure size 432x288 with 1 Axes>"
            ]
          },
          "metadata": {
            "tags": [],
            "needs_background": "light"
          }
        }
      ]
    },
    {
      "cell_type": "markdown",
      "metadata": {
        "id": "5W5OguvMf7HT",
        "colab_type": "text"
      },
      "source": [
        "Luego, puede analizarse el colesterol sérico:"
      ]
    },
    {
      "cell_type": "code",
      "metadata": {
        "id": "KXRvV8Fjf7HW",
        "colab_type": "code",
        "colab": {},
        "outputId": "da5bcbc7-f2ca-4241-ba09-7d6b78616b3a"
      },
      "source": [
        "serum_healthy = df['serum'][df['normal'] == 1]\n",
        "serum_ill = df['serum'][df['normal'] == 2]\n",
        "\n",
        "data = [serum_healthy, serum_ill]\n",
        "fig, ax = plt.subplots()\n",
        "ax.set_title('Muestras')\n",
        "meanlineprops = dict(linestyle='-', linewidth=1, color='blue')\n",
        "ax.boxplot(data, meanprops=meanlineprops, meanline=True, showmeans=True)\n",
        "\n",
        "plt.show()"
      ],
      "execution_count": 0,
      "outputs": [
        {
          "output_type": "display_data",
          "data": {
            "image/png": "[encoded data removed]",
            "text/plain": [
              "<Figure size 432x288 with 1 Axes>"
            ]
          },
          "metadata": {
            "tags": [],
            "needs_background": "light"
          }
        }
      ]
    },
    {
      "cell_type": "markdown",
      "metadata": {
        "id": "nPmn7TBZf7Hc",
        "colab_type": "text"
      },
      "source": [
        "Luego, el ritmo cardíaco:"
      ]
    },
    {
      "cell_type": "code",
      "metadata": {
        "scrolled": true,
        "id": "5GnldKpTf7Hg",
        "colab_type": "code",
        "colab": {},
        "outputId": "619b3961-d3a8-4902-e69a-e4b7ed3cfd62"
      },
      "source": [
        "max_heart_healthy = df['max_heart'][df['normal'] == 1]\n",
        "max_heart_ill = df['max_heart'][df['normal'] == 2]\n",
        "\n",
        "data = [max_heart_healthy, max_heart_ill]\n",
        "fig, ax = plt.subplots()\n",
        "ax.set_title('Muestras')\n",
        "meanlineprops = dict(linestyle='-', linewidth=1, color='blue')\n",
        "ax.boxplot(data, meanprops=meanlineprops, meanline=True, showmeans=True)\n",
        "\n",
        "plt.show()"
      ],
      "execution_count": 0,
      "outputs": [
        {
          "output_type": "display_data",
          "data": {
            "image/png": "[encoded data removed]",
            "text/plain": [
              "<Figure size 432x288 with 1 Axes>"
            ]
          },
          "metadata": {
            "tags": [],
            "needs_background": "light"
          }
        }
      ]
    },
    {
      "cell_type": "markdown",
      "metadata": {
        "id": "-RyNavvrf7Hm",
        "colab_type": "text"
      },
      "source": [
        "> b) Debido a que utilizaremos modelos lineales, necesitaremos una representación adecuada de los datos. Codifique las variables con valores categóricos para ser representados como *one hot vectors*, indicando con un 1 la presencia del atributo en cuestión. Por ejemplo, si un paciente tiene el atributo \"sex: female\", quedará codificado como [0,1], mientras que si tiene el atributo \"sex: male\", quedará como [1,0]. **Explique la importancia de éste paso.**\n",
        "\n",
        "**Respuesta:**\n",
        "\n",
        "En primera instancia, los algoritmos de ML utilizados para el desarrollo de esta tarea requieren de inputs y outputs de tipo numérico, por lo que la representación categórica *(aplicada en el punto anterior)* de las variables no es una opción.\n",
        "\n",
        "Como se puede ver en el archivo *heart.dat*, las variables categóricas del dataset están representadas mediante valores enteros, lo cual podría causar cierta inestabilidad en los resultados del entrenamiento. Por ejemplo, si se entrenara el modelo sobre la variable *chest_pain* con las representaciones originales, se podría obtener diferentes resultados para la **función de pérdida** cuando dos predicciones incorrectas apuntan al mismo valor esperado, asumiendo cierto grado de jerarquía y/o cercanía entre los valores que puede tomar la variable, lo cual es incorrecto. Así, bajo la representación de *one hot vectors*, el clasificador puede re-dimensionar el espacio de variables, transformando a las variables categóricas como *\"la presencia o no de cada valor posible\"*."
      ]
    },
    {
      "cell_type": "code",
      "metadata": {
        "id": "Z4EkQ8cef7Ho",
        "colab_type": "code",
        "colab": {},
        "outputId": "6a19c35b-c189-452b-e5b4-478ad1049bf3"
      },
      "source": [
        "df = pd.get_dummies(df)\n",
        "df.head()"
      ],
      "execution_count": 0,
      "outputs": [
        {
          "output_type": "execute_result",
          "data": {
            "text/html": [
              "<div>\n",
              "<style scoped>\n",
              "    .dataframe tbody tr th:only-of-type {\n",
              "        vertical-align: middle;\n",
              "    }\n",
              "\n",
              "    .dataframe tbody tr th {\n",
              "        vertical-align: top;\n",
              "    }\n",
              "\n",
              "    .dataframe thead th {\n",
              "        text-align: right;\n",
              "    }\n",
              "</style>\n",
              "<table border=\"1\" class=\"dataframe\">\n",
              "  <thead>\n",
              "    <tr style=\"text-align: right;\">\n",
              "      <th></th>\n",
              "      <th>age</th>\n",
              "      <th>blood_p</th>\n",
              "      <th>serum</th>\n",
              "      <th>max_heart</th>\n",
              "      <th>oldpeak</th>\n",
              "      <th>vessel</th>\n",
              "      <th>normal</th>\n",
              "      <th>sex_female</th>\n",
              "      <th>sex_male</th>\n",
              "      <th>chest_pain_asymptomatic</th>\n",
              "      <th>...</th>\n",
              "      <th>electro_left ventricular hypertrophy</th>\n",
              "      <th>electro_normal</th>\n",
              "      <th>angina_no</th>\n",
              "      <th>angina_yes</th>\n",
              "      <th>slope_downsloping</th>\n",
              "      <th>slope_flat</th>\n",
              "      <th>slope_upsloping</th>\n",
              "      <th>thal_fixed defect</th>\n",
              "      <th>thal_normal</th>\n",
              "      <th>thal_reversable defect</th>\n",
              "    </tr>\n",
              "  </thead>\n",
              "  <tbody>\n",
              "    <tr>\n",
              "      <th>0</th>\n",
              "      <td>70.0</td>\n",
              "      <td>130.0</td>\n",
              "      <td>322.0</td>\n",
              "      <td>109.0</td>\n",
              "      <td>2.4</td>\n",
              "      <td>3.0</td>\n",
              "      <td>2</td>\n",
              "      <td>0</td>\n",
              "      <td>1</td>\n",
              "      <td>1</td>\n",
              "      <td>...</td>\n",
              "      <td>1</td>\n",
              "      <td>0</td>\n",
              "      <td>1</td>\n",
              "      <td>0</td>\n",
              "      <td>0</td>\n",
              "      <td>1</td>\n",
              "      <td>0</td>\n",
              "      <td>0</td>\n",
              "      <td>1</td>\n",
              "      <td>0</td>\n",
              "    </tr>\n",
              "    <tr>\n",
              "      <th>1</th>\n",
              "      <td>67.0</td>\n",
              "      <td>115.0</td>\n",
              "      <td>564.0</td>\n",
              "      <td>160.0</td>\n",
              "      <td>1.6</td>\n",
              "      <td>0.0</td>\n",
              "      <td>1</td>\n",
              "      <td>1</td>\n",
              "      <td>0</td>\n",
              "      <td>0</td>\n",
              "      <td>...</td>\n",
              "      <td>1</td>\n",
              "      <td>0</td>\n",
              "      <td>1</td>\n",
              "      <td>0</td>\n",
              "      <td>0</td>\n",
              "      <td>1</td>\n",
              "      <td>0</td>\n",
              "      <td>0</td>\n",
              "      <td>0</td>\n",
              "      <td>1</td>\n",
              "    </tr>\n",
              "    <tr>\n",
              "      <th>2</th>\n",
              "      <td>57.0</td>\n",
              "      <td>124.0</td>\n",
              "      <td>261.0</td>\n",
              "      <td>141.0</td>\n",
              "      <td>0.3</td>\n",
              "      <td>0.0</td>\n",
              "      <td>2</td>\n",
              "      <td>0</td>\n",
              "      <td>1</td>\n",
              "      <td>0</td>\n",
              "      <td>...</td>\n",
              "      <td>0</td>\n",
              "      <td>1</td>\n",
              "      <td>1</td>\n",
              "      <td>0</td>\n",
              "      <td>0</td>\n",
              "      <td>0</td>\n",
              "      <td>1</td>\n",
              "      <td>0</td>\n",
              "      <td>0</td>\n",
              "      <td>1</td>\n",
              "    </tr>\n",
              "    <tr>\n",
              "      <th>3</th>\n",
              "      <td>64.0</td>\n",
              "      <td>128.0</td>\n",
              "      <td>263.0</td>\n",
              "      <td>105.0</td>\n",
              "      <td>0.2</td>\n",
              "      <td>1.0</td>\n",
              "      <td>1</td>\n",
              "      <td>0</td>\n",
              "      <td>1</td>\n",
              "      <td>1</td>\n",
              "      <td>...</td>\n",
              "      <td>0</td>\n",
              "      <td>1</td>\n",
              "      <td>0</td>\n",
              "      <td>1</td>\n",
              "      <td>0</td>\n",
              "      <td>1</td>\n",
              "      <td>0</td>\n",
              "      <td>0</td>\n",
              "      <td>0</td>\n",
              "      <td>1</td>\n",
              "    </tr>\n",
              "    <tr>\n",
              "      <th>4</th>\n",
              "      <td>74.0</td>\n",
              "      <td>120.0</td>\n",
              "      <td>269.0</td>\n",
              "      <td>121.0</td>\n",
              "      <td>0.2</td>\n",
              "      <td>1.0</td>\n",
              "      <td>1</td>\n",
              "      <td>1</td>\n",
              "      <td>0</td>\n",
              "      <td>0</td>\n",
              "      <td>...</td>\n",
              "      <td>1</td>\n",
              "      <td>0</td>\n",
              "      <td>0</td>\n",
              "      <td>1</td>\n",
              "      <td>0</td>\n",
              "      <td>0</td>\n",
              "      <td>1</td>\n",
              "      <td>0</td>\n",
              "      <td>1</td>\n",
              "      <td>0</td>\n",
              "    </tr>\n",
              "  </tbody>\n",
              "</table>\n",
              "<p>5 rows × 26 columns</p>\n",
              "</div>"
            ],
            "text/plain": [
              "    age  blood_p  serum  max_heart  oldpeak  vessel  normal  sex_female  \\\n",
              "0  70.0    130.0  322.0      109.0      2.4     3.0       2           0   \n",
              "1  67.0    115.0  564.0      160.0      1.6     0.0       1           1   \n",
              "2  57.0    124.0  261.0      141.0      0.3     0.0       2           0   \n",
              "3  64.0    128.0  263.0      105.0      0.2     1.0       1           0   \n",
              "4  74.0    120.0  269.0      121.0      0.2     1.0       1           1   \n",
              "\n",
              "   sex_male  chest_pain_asymptomatic  ...  \\\n",
              "0         1                        1  ...   \n",
              "1         0                        0  ...   \n",
              "2         1                        0  ...   \n",
              "3         1                        1  ...   \n",
              "4         0                        0  ...   \n",
              "\n",
              "   electro_left ventricular hypertrophy  electro_normal  angina_no  \\\n",
              "0                                     1               0          1   \n",
              "1                                     1               0          1   \n",
              "2                                     0               1          1   \n",
              "3                                     0               1          0   \n",
              "4                                     1               0          0   \n",
              "\n",
              "   angina_yes  slope_downsloping  slope_flat  slope_upsloping  \\\n",
              "0           0                  0           1                0   \n",
              "1           0                  0           1                0   \n",
              "2           0                  0           0                1   \n",
              "3           1                  0           1                0   \n",
              "4           1                  0           0                1   \n",
              "\n",
              "   thal_fixed defect  thal_normal  thal_reversable defect  \n",
              "0                  0            1                       0  \n",
              "1                  0            0                       1  \n",
              "2                  0            0                       1  \n",
              "3                  0            0                       1  \n",
              "4                  0            1                       0  \n",
              "\n",
              "[5 rows x 26 columns]"
            ]
          },
          "metadata": {
            "tags": []
          },
          "execution_count": 31
        }
      ]
    },
    {
      "cell_type": "markdown",
      "metadata": {
        "id": "i3Z3rY4Sf7Hu",
        "colab_type": "text"
      },
      "source": [
        "### Predecir la presión sanguínea\n",
        "\n",
        "En primera instancia trabajaremos en el dominio de regresión para predecir el comportamiento de alguna de las variables involucradas con el fin de entender cómo se comportan y si es posible estimar alguna de ellas a partir de las otras. Como ayuda se le indica que una alta presión sanguínea (*blood preasure*) podría ser un indicador de riesgo en temas cardíacos, en específico, para el problema se le comenta la hipótesis de que el comportamiento anormal de la variable presión sanguínea es un buen indicador para la detección de enfermedades cardíacas. \n",
        "Su objetivo dada esta información será la de predecir el comportamiento de esta variable en función de las otras, para luego detectar qué tan distante es el valor real al valor predecido y así detectar las enfermedades.\n",
        "\n",
        "\n",
        "> c) Extraiga la información de la enfermedad cardíaca (*clase binaria*) además de la variable continua que nos intereserá predecir en esta instancia (*target*) con un modelo de regresión lineal.\n",
        "\n",
        "**Respuesta:**\n",
        "\n",
        "En el caso de la variable asociada a la enfermedad cardíaca, cuyos valores son $1$ ó $2$, tras extraerla, se resta una unidad a cada dato registrado, de manera tal que se pueda evaluar su comportamiento como si fuese una variable binaria:"
      ]
    },
    {
      "cell_type": "code",
      "metadata": {
        "id": "DDjt-EDrf7Hv",
        "colab_type": "code",
        "colab": {}
      },
      "source": [
        "data = df.copy()\n",
        "\n",
        "class_label = data.pop(\"normal\").values -1\n",
        "reg_label = data.pop(\"blood_p\").values\n",
        "X_data = data.values"
      ],
      "execution_count": 0,
      "outputs": []
    },
    {
      "cell_type": "markdown",
      "metadata": {
        "id": "_-c3nk5Mf7H2",
        "colab_type": "text"
      },
      "source": [
        "\n",
        "> d) Cree un conjunto de pruebas para evaluar los modelos construidos en el problema. Extraiga el 30\\% de los datos del conjunto total para representar el conjunto de pruebas."
      ]
    },
    {
      "cell_type": "code",
      "metadata": {
        "id": "d7cNE96bf7H4",
        "colab_type": "code",
        "colab": {},
        "outputId": "9e454201-4245-41b1-a472-4f3f6ddeb51a"
      },
      "source": [
        "np.random.seed(0)\n",
        "mask_test = np.random.rand(X_data.shape[0]) < 0.30\n",
        "\n",
        "X_train = X_data[~mask_test] \n",
        "X_test = X_data[mask_test]\n",
        "\n",
        "reg_label_train = reg_label[~mask_test] \n",
        "reg_label_test = reg_label[mask_test]\n",
        "\n",
        "class_label_train = class_label[~mask_test] \n",
        "class_label_test = class_label[mask_test]\n",
        "\n",
        "print(\"Train: \", X_train.shape)\n",
        "print(\"Test: \", X_test.shape)"
      ],
      "execution_count": 0,
      "outputs": [
        {
          "output_type": "stream",
          "text": [
            "Train:  (184, 24)\n",
            "Test:  (86, 24)\n"
          ],
          "name": "stdout"
        }
      ]
    },
    {
      "cell_type": "markdown",
      "metadata": {
        "id": "1UIYcrBff7II",
        "colab_type": "text"
      },
      "source": [
        "> e) Realice una estandarización normal de los datos de entrada al modelo (*input*). **Comente la importancia/conveniencia de realizar este paso**."
      ]
    },
    {
      "cell_type": "code",
      "metadata": {
        "id": "wnYAX0_Xf7IK",
        "colab_type": "code",
        "colab": {}
      },
      "source": [
        "from sklearn.preprocessing import StandardScaler\n",
        "\n",
        "std = StandardScaler()\n",
        "std.fit(X_train)\n",
        "Xstd_train = std.transform(X_train) \n",
        "Xstd_test = std.transform(X_test)"
      ],
      "execution_count": 0,
      "outputs": []
    },
    {
      "cell_type": "markdown",
      "metadata": {
        "id": "HM3ukzrcf7IV",
        "colab_type": "text"
      },
      "source": [
        "> f) Realice una regresión lineal de mı́nimos cuadrados básica para predecir el nivel de presión sanguínea. Mida los errores de predicción para cada dato en el conjunto de entrenamiento. Utilizando un *quantile-quantile plot* determine si es razonable la hipótesis de normalidad sobre los residuos del modelo."
      ]
    },
    {
      "cell_type": "code",
      "metadata": {
        "id": "UPJIdFRAf7Id",
        "colab_type": "code",
        "colab": {}
      },
      "source": [
        "from sklearn.linear_model import LinearRegression\n",
        "model = LinearRegression(fit_intercept=True)\n",
        "model.fit(Xstd_train, reg_label_train)\n",
        "\n",
        "reg_pred_train = model.predict(Xstd_train)\n",
        "reg_pred_test = model.predict(Xstd_test)"
      ],
      "execution_count": 0,
      "outputs": []
    },
    {
      "cell_type": "markdown",
      "metadata": {
        "id": "UFP4ohwDf7Is",
        "colab_type": "text"
      },
      "source": [
        "> g) Construya una tabla con los pesos, Z-score y F-score correspondientes a cada predictor (variable), compare estos valores. ¿Qué sucede si hacemos un raking de los atributos en base al peso obtenido en la regresión? ¿Qué variables están más correlacionadas con la respuesta?"
      ]
    },
    {
      "cell_type": "code",
      "metadata": {
        "id": "d5DhpVtgf7Iz",
        "colab_type": "code",
        "colab": {}
      },
      "source": [
        ""
      ],
      "execution_count": 0,
      "outputs": []
    },
    {
      "cell_type": "markdown",
      "metadata": {
        "id": "JhMh0NRaf7I8",
        "colab_type": "text"
      },
      "source": [
        "> h) Para evaluar la calidad de las predicciones del modelo sobre el problema utilice el error absoluto medio (*mean absolute error*). Comente los resultados sobre en ambos conjuntos y la interpretación que se le da a la métrica de evaluación en el problema."
      ]
    },
    {
      "cell_type": "code",
      "metadata": {
        "id": "nIANr-UQf7JA",
        "colab_type": "code",
        "colab": {},
        "outputId": "1473a7aa-7a21-4407-b535-79fc5ee008f9"
      },
      "source": [
        "from sklearn.metrics import mean_absolute_error, mean_squared_error\n",
        "\n",
        "print(\"MSE train: \", mean_squared_error(reg_label_train, reg_pred_train))\n",
        "print(\"MSE test: \", mean_squared_error(reg_label_test, reg_pred_test))"
      ],
      "execution_count": 0,
      "outputs": [
        {
          "output_type": "stream",
          "text": [
            "MSE train:  259.62929877777015\n",
            "MSE test:  263.1851888628686\n"
          ],
          "name": "stdout"
        }
      ]
    },
    {
      "cell_type": "markdown",
      "metadata": {
        "id": "6VBrFrL9f7JH",
        "colab_type": "text"
      },
      "source": [
        "> i) Estime la calidad del modelo usando validación cruzada con un número de *fold* igual a $K=1$ (*leave-one-out*) y $K=5$. Recuerde que para que la estimación sea razonable, en cada configuración (*fold*) deberá reajustar los pesos del modelo. Compare esta estimación *vs* la calidad real (en conjunto de pruebas) y concluya."
      ]
    },
    {
      "cell_type": "code",
      "metadata": {
        "id": "wWrCmmvEf7JJ",
        "colab_type": "code",
        "colab": {},
        "outputId": "1ed2ee16-027d-4bd5-ef83-e723d7496cd1"
      },
      "source": [
        "from sklearn.model_selection import KFold\n",
        "\n",
        "kf = KFold(n_splits=K)\n",
        "mse_cv = 0\n",
        "\n",
        "for train, val in kf.split(Xstd_train):\n",
        "    linreg = LinearRegression(fit_intercept=True)\n",
        "    linreg.fit(Xstd_train[train], reg_label_train[train])\n",
        "    yhat_kfold_val = linreg.predict(Xstd_train[val])\n",
        "    mse_fold =  np.mean( np.square(yhat_kfold_val - reg_label_train[val]) )\n",
        "    mse_cv += mse_fold\n",
        "    \n",
        "mse_cv = mse_cv / K"
      ],
      "execution_count": 0,
      "outputs": [
        {
          "output_type": "error",
          "ename": "NameError",
          "evalue": "name 'K' is not defined",
          "traceback": [
            "\u001b[1;31m---------------------------------------------------------------------------\u001b[0m",
            "\u001b[1;31mNameError\u001b[0m                                 Traceback (most recent call last)",
            "\u001b[1;32m<ipython-input-89-57a20cb8cec6>\u001b[0m in \u001b[0;36m<module>\u001b[1;34m\u001b[0m\n\u001b[0;32m      1\u001b[0m \u001b[1;32mfrom\u001b[0m \u001b[0msklearn\u001b[0m\u001b[1;33m.\u001b[0m\u001b[0mmodel_selection\u001b[0m \u001b[1;32mimport\u001b[0m \u001b[0mKFold\u001b[0m\u001b[1;33m\u001b[0m\u001b[1;33m\u001b[0m\u001b[0m\n\u001b[0;32m      2\u001b[0m \u001b[1;33m\u001b[0m\u001b[0m\n\u001b[1;32m----> 3\u001b[1;33m \u001b[0mkf\u001b[0m \u001b[1;33m=\u001b[0m \u001b[0mKFold\u001b[0m\u001b[1;33m(\u001b[0m\u001b[0mn_splits\u001b[0m\u001b[1;33m=\u001b[0m\u001b[0mK\u001b[0m\u001b[1;33m)\u001b[0m\u001b[1;33m\u001b[0m\u001b[1;33m\u001b[0m\u001b[0m\n\u001b[0m\u001b[0;32m      4\u001b[0m \u001b[0mmse_cv\u001b[0m \u001b[1;33m=\u001b[0m \u001b[1;36m0\u001b[0m\u001b[1;33m\u001b[0m\u001b[1;33m\u001b[0m\u001b[0m\n\u001b[0;32m      5\u001b[0m \u001b[1;33m\u001b[0m\u001b[0m\n",
            "\u001b[1;31mNameError\u001b[0m: name 'K' is not defined"
          ]
        }
      ]
    },
    {
      "cell_type": "markdown",
      "metadata": {
        "id": "e6cYpJOJf7JP",
        "colab_type": "text"
      },
      "source": [
        "> j) Debido a la creación de varias columnas *dummys* en el punto b), experimente con técnicas de regularización para mejorar el desempeño de su modelo. Para ésto ajuste un modelo lineal utilizando \"*Ridge Regression*\", es decir, regularizando con la norma $l_2$, varíe los parámetros de regularización si estima conveniente. Construya un gráfico que muestre los coeficientes obtenidos como función del parámetro de regularización. Describa lo que observa."
      ]
    },
    {
      "cell_type": "code",
      "metadata": {
        "id": "WBlE4SY5f7JR",
        "colab_type": "code",
        "colab": {},
        "outputId": "9de1da31-ea07-492a-8512-037bc915d302"
      },
      "source": [
        "from sklearn.linear_model import Ridge\n",
        "alphas_ = np.logspace(5,0, base=10)\n",
        "coefs = []\n",
        "model = Ridge(fit_intercept=True, solver='svd')\n",
        "for a in alphas_:\n",
        "    model.set_params(alpha=a)\n",
        "    model.fit(Xstd_train, reg_label_train)\n",
        "    coefs.append(model.coef_)\n",
        "import matplotlib.pyplot as plt\n",
        "names_regressors = df.columns\n",
        "plt.figure(figsize=(15,7))\n",
        "for y_arr, label in zip(np.squeeze(coefs).T, names_regressors):\n",
        "    plt.plot(alphas_, y_arr, label=label)\n",
        "plt.legend()\n",
        "plt.xscale('log')\n",
        "plt.title('Regularization Path RIDGE')\n",
        "plt.legend(loc='lower right')\n",
        "plt.show()"
      ],
      "execution_count": 0,
      "outputs": [
        {
          "output_type": "display_data",
          "data": {
            "image/png": "[encoded data removed]",
            "text/plain": [
              "<Figure size 1080x504 with 1 Axes>"
            ]
          },
          "metadata": {
            "tags": [],
            "needs_background": "light"
          }
        }
      ]
    },
    {
      "cell_type": "markdown",
      "metadata": {
        "id": "AgZYTe4Af7JY",
        "colab_type": "text"
      },
      "source": [
        "> k) Ahora experimente regularizando con la norma $l_1$, lo que corresponde a utilizar el método \"*Lasso*\". Vuelva a realizar el gráfico mostrando los coeficientes obtenidos, describa lo que observa. ¿Es más efectivo *Lasso* para seleccionar atributos?"
      ]
    },
    {
      "cell_type": "code",
      "metadata": {
        "id": "yJCFSXI6f7Jb",
        "colab_type": "code",
        "colab": {},
        "outputId": "c0230f55-df08-4498-c0a8-776292fa26b5"
      },
      "source": [
        "from sklearn.linear_model import Lasso\n",
        "alphas_ = np.logspace(2,-2,base=10)\n",
        "coefs = []\n",
        "model = Lasso(fit_intercept=True)\n",
        "for a in alphas_:\n",
        "    model.set_params(alpha=a)\n",
        "    model.fit(Xstd_train, reg_label_train)\n",
        "    coefs.append(model.coef_)\n",
        "... #plot again"
      ],
      "execution_count": 0,
      "outputs": [
        {
          "output_type": "execute_result",
          "data": {
            "text/plain": [
              "Ellipsis"
            ]
          },
          "metadata": {
            "tags": []
          },
          "execution_count": 91
        }
      ]
    },
    {
      "cell_type": "markdown",
      "metadata": {
        "id": "Zvh1lopNf7Ji",
        "colab_type": "text"
      },
      "source": [
        "> l) Evalúe la calidad de estos dos modelos en ambos conjuntos a distintos valores del parámetro de regularización. Haga uso de la *widget* interactiva de *ipython*. Comente ¿Con qué valor de *alpha* se quedaría en cada caso?"
      ]
    },
    {
      "cell_type": "code",
      "metadata": {
        "id": "Jtj9wKq8f7Jk",
        "colab_type": "code",
        "colab": {}
      },
      "source": [
        "from ipywidgets import interactive\n",
        "def train_model(param):\n",
        "    model = #define the model (Ridge and Lasso)\n",
        "    A = 10**(param)\n",
        "    print(\"Param alpha= \",A)\n",
        "    model.set_params(alpha=A)\n",
        "    model.fit(Xstd_train, reg_label_train)\n",
        "    print(\"MSE train: \", mean_squared_error(reg_label_train, model.predict(Xstd_train) ))\n",
        "    print(\"MSE test: \", mean_squared_error(reg_label_test, model.predict(Xstd_test) ))\n",
        "p_min = -10 #define your range\n",
        "p_max = 10 #define your range\n",
        "interactive(train_model, param=(p_min,p_max))"
      ],
      "execution_count": 0,
      "outputs": []
    },
    {
      "cell_type": "markdown",
      "metadata": {
        "id": "KFmt2OgAf7Jq",
        "colab_type": "text"
      },
      "source": [
        "> m) De manera más estricta un médico le solicita un modelo que solo cuente con 5 características (variables) para predecir el nivel de presión sanguínea. Usted bien conoce un método que selecciona características de manera iterativa (*greedy*), con la idea de que la característica seleccionada tenga el mejor aporte sobre el desempeño del modelo. Construya una función que implemente *Forward Step-wise Selection* (FSS) sobre el modelo de regresión lineal clásico.  Para seleccionar localmente una característica, **proponga/implemente un criterio distinto al utilizado en el código de ejemplo** (**no** utilice el conjunto de pruebas). Construya un gráfico que muestre el error de entrenamiento y el error de pruebas como función del número de variables en el modelo."
      ]
    },
    {
      "cell_type": "code",
      "metadata": {
        "id": "FpFBz-N5f7Jr",
        "colab_type": "code",
        "colab": {}
      },
      "source": [
        "def fss(x, y, names_x, k = 10000):\n",
        "    p = x.shape[1]-1\n",
        "    k = min(p, k)\n",
        "    names_x = np.array(names_x)\n",
        "    remaining = range(0, p)\n",
        "    selected = [p]\n",
        "    current_score = best_new_score = 0.0\n",
        "    while remaining and len(selected)<=k :\n",
        "        score_candidates = []\n",
        "        for candidate in remaining:\n",
        "            model = LinearRegression(fit_intercept=True, n_jobs=1)\n",
        "            indexes = selected + [candidate]\n",
        "            x_train = x[:,indexes]\n",
        "            predictions_train = model.fit(x_train, y).predict(x_train)\n",
        "            residuals_train =  predictions_train - y\n",
        "            error_candidate =  np.mean(np.power(residuals_train, 2))\n",
        "            score_candidates.append((error_candidate, candidate))\n",
        "        score_candidates.sort()\n",
        "        score_candidates[:] = score_candidates[::-1]\n",
        "        best_new_score, best_candidate = score_candidates.pop()\n",
        "        remaining.remove(best_candidate)\n",
        "        selected.append(best_candidate)\n",
        "        print \"selected = %s ...\"%names_x[best_candidate]\n",
        "        print \"totalvars=%d, mse = %f\"%(len(indexes),best_new_score)\n",
        "    return selected\n",
        "features_fss = fss(Xstd_train, reg_label_train, names_regressors)\n",
        "need_feat = features_fss[:5]"
      ],
      "execution_count": 0,
      "outputs": []
    },
    {
      "cell_type": "markdown",
      "metadata": {
        "id": "8yA4ocbdf7Jv",
        "colab_type": "text"
      },
      "source": [
        "> n) Realice otra modificación al algoritmo FSS anterior, en donde se deba entrenar el modelo predictor una sola vez. Cree alguna huerística de selección que le permita realizar ésto."
      ]
    },
    {
      "cell_type": "code",
      "metadata": {
        "id": "o0lmor4Df7Jw",
        "colab_type": "code",
        "colab": {}
      },
      "source": [
        ""
      ],
      "execution_count": 0,
      "outputs": []
    },
    {
      "cell_type": "markdown",
      "metadata": {
        "id": "bLMx1YTff7Jz",
        "colab_type": "text"
      },
      "source": [
        "> o) Realice una modificación a los datos y agregue entre 10 a 100 atributos falsos, es decir, atributos aleatorios generados que no tienen relación con la variable de predicción (*target*). Para ésto utilice una distribución normal con valor esperado diferente de 0 y una cierta desviación estándar. Utilice alguna de las técnicas de selección de atributos (Ridge, Lasso, FSS) para evaluar la efectividad en eliminar estos atributos falsos ¿Depende del nivel de ruido (desviación estándar)?"
      ]
    },
    {
      "cell_type": "code",
      "metadata": {
        "id": "KY8DOno5f7J3",
        "colab_type": "code",
        "colab": {},
        "outputId": "b9b36acf-5e3b-4270-f9ae-7704c6599c5d"
      },
      "source": [
        "D = #number of fake features\n",
        "F = np.random.normal(loc = mu, scale = std, size=(N,D) ) #fake features\n",
        "X_new_train= np.concatenate([Xstd_train, F], axis=-1)"
      ],
      "execution_count": 0,
      "outputs": [
        {
          "output_type": "error",
          "ename": "SyntaxError",
          "evalue": "invalid syntax (<ipython-input-85-731831965cf8>, line 1)",
          "traceback": [
            "\u001b[1;36m  File \u001b[1;32m\"<ipython-input-85-731831965cf8>\"\u001b[1;36m, line \u001b[1;32m1\u001b[0m\n\u001b[1;33m    D = #number of fake features\u001b[0m\n\u001b[1;37m                                ^\u001b[0m\n\u001b[1;31mSyntaxError\u001b[0m\u001b[1;31m:\u001b[0m invalid syntax\n"
          ]
        }
      ]
    },
    {
      "cell_type": "markdown",
      "metadata": {
        "id": "yzbmMLF2f7J7",
        "colab_type": "text"
      },
      "source": [
        "### Detectar una enfermedad \n",
        "Con toda la información obtenida de la experimentación previa, deberá hacer la predicción de la enfermedad cardíaca, ésto es un problema binario de clasificación de dos clases (presencia o ausencia de la enfermedad). Para explorar la hipótesis que le fue entregada en un inicio, de que el comportamiento anormal (*outlier*) de presión sanguínea sobre las personas es un indicio de alguna enfermedad, deberá utilizar los datos de los pacientes que se encuentran sanos (comportamiento normal).\n",
        "\n",
        "> p) Entrene un modelo de regresión lineal, el mejor explorado en la experimentación previa, para predecir la presión sanguínea de los pacientes sanos, así obtener un modelo que estima cuál debiera ser el nivel sanguíneo en base al resto de información del paciente.\n",
        "```python\n",
        "mask_norm = class_label_train == 0 \n",
        "model = #choose yor model..\n",
        "model.fit(Xstd_train[mask_norm], reg_label_train[mask_norm])\n",
        "...\n",
        "blood_p_tr = model.predict(Xstd_train) \n",
        "blood_p_te = model.predict(Xstd_test) \n",
        "```\n",
        "\n",
        "> q) Realice una clasificación de los pacientes a través de definir un umbral de decisión óptimo sobre la presión sanguínea estimada por el modelo. Por ejemplo, una cantidad mayor a $p$ es considerado como anormal (enfermo). Para ésto utilice la distribución predicha de este atributo para poder separar correctamente entre los dos tipos de comportamiento, normal (sano) y anormal (enfermo).\n",
        "```python\n",
        "import seaborn as sns\n",
        "sns.distplot(blood_p_tr[mask_norm], label=\"normal behavior\")\n",
        "sns.distplot(blood_p_tr[~mask_norm], label=\"ill person behavior\")\n",
        "plt.show()\n",
        "def predict_umbr(data, umbral_up, umbral_low):\n",
        "    preds = []\n",
        "    for value in data:\n",
        "        if value > umbral_up or value < umbral_low:\n",
        "            preds.append(1) #presencia\n",
        "        else:\n",
        "            preds.append(0)\n",
        "    return np.asarray(preds)\n",
        "pred_train = predict_umbr(blood_p_tr, p_up, p_low)\n",
        "pred_test = predict_umbr(blood_p_te, p_up, p_low)\n",
        "```\n",
        "\n",
        "> r) Mida la calidad de la clasificación entregada a través de la exactitud (*accuracy*) sobre ambos conjuntos. Evalúe si es necesario variar la decisión sobre el umbral del punto anterior. *Recuerde que, al ser un problema binario, el mínimo que se espera es por sobre 50\\%*\n",
        "```python\n",
        "from sklearn.metrics import accuracy_score\n",
        "print(\"Score train: \",accuracy_score(class_label_train, pred_train))\n",
        "print(\"Score test: \",accuracy_score(class_label_test, pred_test)) \n",
        "```\n",
        "\n",
        "> s) Compare su *framework* de clasificación con un modelo lineal simple de clasificación binaria como el *perceptrón*, el cual se entrenará para aprender directamente la tarea (de manera supervisada), sin utilizar la información de presión sanguínea. Comente sobre las diferencias, ventajas y desventajas, de cada *approach*.\n",
        "```python\n",
        "from sklearn.linear_model import Perceptron\n",
        "model = Perceptron(fit_intercept=True, eta0=1.0, max_iter=1000, n_jobs=-1)\n",
        "model.fit(Xstd_train, class_label_train)\n",
        "pred_train = model.predict(Xstd_train) \n",
        "pred_test = model.predict(Xstd_test)\n",
        "print(\"Score train: \",accuracy_score(class_label_train, pred_train))\n",
        "print(\"Score test: \",accuracy_score(class_label_test, pred_test)) \n",
        "```\n",
        "\n",
        "> t) Para poder darle una explicación más visual a la clasificación de ambos modelos, y así entender mejor dónde podría estar el error, proyecte los datos en 2 dimensiones. Utilice la técnica de reducción de dimensionalidad **PCA** para representar los datos en las dimensiones deseadas. Comente sobre el comportamiento, puede colorear los datos dado el estado del paciente (enfermedad) y/o la predicción de alguno de los modelos (Perceptrón o con umbral).\n",
        "```python\n",
        "from sklearn.decomposition import PCA\n",
        "d = 2\n",
        "pca_model = PCA(n_components=d)\n",
        "pca_model.fit(Xstd_train)\n",
        "X_pca_train = pca_model.transform(Xstd_train)\n",
        "X_pca_test = pca_model.transform(Xstd_test)\n",
        "plt.scatter(X_pca_train[:,0], X_pca_train[:,1])\n",
        "plt.show()\n",
        "```\n",
        "\n",
        "> u) Vuelve a realizar lo anterior pero con otra técnica de reducción de dimensionalidad, como por ejemplo **ICA** [[3]](#refs). Comente\n",
        "```python\n",
        "from sklearn.decomposition import FastICA\n",
        "...\n",
        "```\n",
        "\n",
        "> v) ¿Qué tanto se ve afectada la calidad de predicción si se utiliza la representación reducida generada por PCA vs la representación original? ¿Es esperable este fenómeno? ¿Podría mejorar la calidad de predicción? Proponga e implemente un criterio para seleccionar el número de componentes $d$ en PCA. Comente"
      ]
    },
    {
      "cell_type": "markdown",
      "metadata": {
        "colab_type": "text",
        "id": "2Crp6nxR2RQu"
      },
      "source": [
        "<a id=\"segundo\"></a>\n",
        "## 2. Estimación de edad de personas\n",
        "El problema de inferir ciertas características de una persona a través de una foto de ella puede resultar bastante dificil incluso para nosotros, como por ejemplo de qué país es, la emoción que expresa, la edad que tiene, o el género. La automatización de este proceso para que máquinas logren identificar ciertas características de una persona puede ser algo crucial para el futuro desarrollo de Inteligencia Artificial.\n",
        "\n",
        "<img src=\"https://i.imgur.com/6B072GE.jpg\" width=\"60%\" height=\"20%\" />\n",
        "\n",
        "\n",
        "En esta actividad trabajaremos con unos datos (imágenes) en el **objetivo** de predecir la **edad** (*target value*) de la persona presente en la imagen. Los datos corresponden a 3640 imágenes de rostros de personas extraídos de la plataforma Flickr, pero, debido a que trabajamos con redes *feed forward*, se trabajará con representaciones de alto nivel, extraídas manualmente (no-aprendibles). Para ésto necesitará descargar los datos del siguiente __[link](http://chenlab.ece.cornell.edu/people/Andy/ImagesOfGroups.html)__ en el extracto de *ageGenderClassification* o a través de la consola Unix.\n",
        "```\n",
        "wget http://chenlab.ece.cornell.edu/projects/ImagesOfGroups/ageGenderClassification.zip\n",
        "```\n",
        "\n",
        "Se trabajará con archivos *.mat* que pueden ser cargados de la siguiente manera:\n",
        "```python\n",
        "import scipy.io as sio\n",
        "mat_file = sio.loadmat(\"event.mat\")\n",
        "```\n",
        "Mientras que para acceder a la información como tal:\n",
        "```python\n",
        "data = mat_file[\"trcoll\"][0][0] # is \"tecoll\" for testing set\n",
        "age_true = data[1] #target\n",
        "...\n",
        "genFeat = data[0]   # Contextual features\n",
        "ffcoefs = data[3]   # Fisherface space\n",
        "faceGist = data[4]  # GIST features\n",
        "...\n",
        "```\n",
        "\n",
        "Para descripción sobre las columnas están en el archivo readme a través del siguiente __[link](http://chenlab.ece.cornell.edu/projects/ImagesOfGroups/README.txt)__ o a través de la consola Unix:\n",
        "```\n",
        "wget http://chenlab.ece.cornell.edu/projects/ImagesOfGroups/README.txt\n",
        "```\n",
        "\n",
        "Existen distintas representaciones (descriptores) que usted podrá trabajar y entregársela como *input* a su modelo. Está la libertad de cómo desea trabajar este problema para detectar la edad de la persona, ya sea combinando los descriptores, teniendo un modelo para cada uno, definiendo rangos de edad o cualquier idea que se le ocurra. \n",
        "\n",
        "#### Importante\n",
        "* Recuerde que el conjunto de pruebas está para evaluar su modelo final, **no puede tomar decisiones basadas en este conjunto**. *Sin embargo, Puede generar un conjunto de validación desde el conjunto de entrenamiento o utilizar validación cruzada*.\n",
        "\n",
        "* La métrica de evaluación será MAPE (*Mean Absolute Percetage Error*).\n",
        "```python\n",
        "import numpy as np\n",
        "def mean_absolute_percentage_error(y_true, y_pred): \n",
        "    return np.mean(np.abs((y_true - y_pred) / y_true)) * 100\n",
        "```\n",
        "* Se evaluará la extensión de su experimentación, la correctitud y su creatividad al desarrollar la actividad.\n",
        "\n",
        "#### --- Bonus ---\n",
        "Si desea comparar la calidad de solución respecto a otros estudiantes podrá realizar un *submission* de sus resultados en el conjunto de pruebas en la plataforma de __[Kaggle](https://www.kaggle.com/c/t1-ml/)__ a través del siguiente __[link](https://www.kaggle.com/t/3f3c4a759ec3482ab06c06ec91187742)__.\n",
        "\n",
        "El archivo de *submission* debe contener una columna de *id* asociado a cada conjunto de pruebas, iniciando en 1, se puede generar de la siguiente manera:\n",
        "```python\n",
        "ids = np.arange(1, 1+y_pred.shape[0]).reshape(-1,1)\n",
        "sub_est = np.concatenate([ids, y_pred], axis=-1)\n",
        "import pandas as pd\n",
        "df_aux = pd.DataFrame(sub_est, columns=[\"id\",\"age\"])\n",
        "df_aux.to_csv(\"test_estimation.csv\", index=False)\n",
        "```\n",
        "\n",
        "> Para los 3 primeros lugares se otorgará 5, 10 y 15 puntos respectivos en su nota final de esta tarea. "
      ]
    },
    {
      "cell_type": "markdown",
      "metadata": {
        "colab_type": "text",
        "id": "-P38x8J72RQx"
      },
      "source": [
        "<a id=\"refs\"></a>\n",
        "## Referencias\n",
        "[1] Hastie, T.; Tibshirani, R., Friedman, J. (2009), *The Elements of Statistical Learning*, Second Edition.\n",
        "Springer New York Inc.  \n",
        "[2] Ethem Alpaydin. *Machine Learning*. 2014.  \n",
        "[3] Hyvärinen, A., & Oja, E. (2000). *Independent component analysis: algorithms and applications*. Neural networks, 13(4-5), 411-430."
      ]
    }
  ]
}